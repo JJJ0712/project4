{
 "cells": [
  {
   "cell_type": "code",
   "execution_count": 55,
   "id": "2462b4e6",
   "metadata": {},
   "outputs": [],
   "source": [
    "import pandas as pd\n",
    "import os\n",
    "import sys\n",
    "import requests\n",
    "import urllib.request\n",
    "from bs4 import BeautifulSoup"
   ]
  },
  {
   "cell_type": "code",
   "execution_count": 56,
   "id": "4a5dc782",
   "metadata": {},
   "outputs": [],
   "source": [
    "key = 'ttbjs0712751647001'\n",
    "\n",
    "query = '파이썬'\n",
    "\n",
    "url = 'http://www.aladin.co.kr/ttb/api/ItemSearch.aspx?ttbkey='+ key + '&' + 'Query='+ query +'&output=xml'"
   ]
  },
  {
   "cell_type": "code",
   "execution_count": 57,
   "id": "734706ad",
   "metadata": {},
   "outputs": [
    {
     "data": {
      "text/plain": [
       "'http://www.aladin.co.kr/ttb/api/ItemSearch.aspx?ttbkey=ttbjs0712751647001&Query=파이썬&output=xml'"
      ]
     },
     "execution_count": 57,
     "metadata": {},
     "output_type": "execute_result"
    }
   ],
   "source": [
    "url"
   ]
  },
  {
   "cell_type": "code",
   "execution_count": 58,
   "id": "b4cf9c1c",
   "metadata": {},
   "outputs": [
    {
     "data": {
      "text/plain": [
       "<Response [200]>"
      ]
     },
     "execution_count": 58,
     "metadata": {},
     "output_type": "execute_result"
    }
   ],
   "source": [
    "result = requests.get(url)\n",
    "result"
   ]
  },
  {
   "cell_type": "code",
   "execution_count": 60,
   "id": "581c1254",
   "metadata": {},
   "outputs": [],
   "source": [
    "result.content\n",
    "bs_obj = BeautifulSoup(result.content,'lxml')"
   ]
  },
  {
   "cell_type": "code",
   "execution_count": 61,
   "id": "d54a8030",
   "metadata": {
    "scrolled": true
   },
   "outputs": [
    {
     "data": {
      "text/plain": [
       "<?xml version=\"1.0\" encoding=\"UTF-8\"?><html><body><object xmlns=\"http://www.aladin.co.kr/ttb/apiguide.aspx\">\n",
       "<title>알라딘 검색결과 - 파이썬</title>\n",
       "<link/>http://www.aladin.co.kr/search/wsearchresult.aspx?KeyWord=%c6%c4%c0%cc%bd%e3&amp;SearchTarget=book\n",
       "    <language>ko</language>\n",
       "<copyright>&amp;copy;copyright 2008 aladin</copyright>\n",
       "<pubdate>Tue, 17 Jan 2023 08:14:20 GMT</pubdate>\n",
       "<totalresults>1001</totalresults>\n",
       "<startindex>1</startindex>\n",
       "<itemsperpage>10</itemsperpage>\n",
       "<query>파이썬</query>\n",
       "<version>20070901</version>\n",
       "<searchcategoryid>0</searchcategoryid>\n",
       "<searchcategoryname>전체</searchcategoryname>\n",
       "<item itemid=\"308666199\">\n",
       "<title>알고리듬 세계에 뛰어들기 - 용감한 초보를 위한 파이썬 어드벤처</title>\n",
       "<link/>http://www.aladin.co.kr/shop/wproduct.aspx?ItemId=308666199&amp;copyPaper=1&amp;ttbkey=ttbjs0712751647001&amp;start=api\n",
       "\t\t\t\t<author>브래드포드 턱필드 지음, 이재익 옮김</author>\n",
       "<pubdate>Mon, 13 Feb 2023 15:00:00 GMT</pubdate>\n",
       "<description>&lt;img src='https://image.aladin.co.kr/product/30866/61/coveroff/k662831576_1.jpg'/&gt; 알고리듬 세계에 뛰어들기 - 브래드포드 턱필드 지음, 이재익 옮김 &lt;br/&gt; 알고리듬에 관한 파이썬 기반의 광범위한 입문서다. 야구공을 잡는 방법을 결정하는 데 도움이 되는 인간의 알고리듬, 머신 러닝과 인공 지능에 사용되는 것과 같은 고급 알고리듬 등 검색, 정렬 및 최적화를 위한 세상에서 가장 흥미로운 많은 알고리듬을 탐색하게 될 것이다.</description>\n",
       "<creator>aladin</creator>\n",
       "<isbn>K662831576</isbn>\n",
       "<isbn13>9791161757124</isbn13>\n",
       "<pricesales>25200</pricesales>\n",
       "<pricestandard>28000</pricestandard>\n",
       "<stockstatus>예약판매</stockstatus>\n",
       "<mileage>1400</mileage>\n",
       "<cover>https://image.aladin.co.kr/product/30866/61/coversum/k662831576_1.jpg</cover>\n",
       "<categoryid>2732</categoryid>\n",
       "<categoryname>국내도서&gt;컴퓨터/모바일&gt;컴퓨터 공학&gt;자료구조/알고리즘</categoryname>\n",
       "<publisher>에이콘출판</publisher>\n",
       "<customerreviewrank>0</customerreviewrank>\n",
       "</item>\n",
       "<item itemid=\"308669765\">\n",
       "<title>데이터 과학 효율을 높이는 데이터 클리닝 - 불량 데이터의 문제를 발견하고 해결하는 방법</title>\n",
       "<link/>http://www.aladin.co.kr/shop/wproduct.aspx?ItemId=308669765&amp;copyPaper=1&amp;ttbkey=ttbjs0712751647001&amp;start=api\n",
       "\t\t\t\t<author>데이비드 메르츠 지음, 유동하 옮김</author>\n",
       "<pubdate>Mon, 30 Jan 2023 15:00:00 GMT</pubdate>\n",
       "<description>&lt;img src='https://image.aladin.co.kr/product/30866/97/coveroff/k282831577_1.jpg'/&gt; 데이터 과학 효율을 높이는 데이터 클리닝 - 데이비드 메르츠 지음, 유동하 옮김 &lt;br/&gt; 데이터 과학자라면 피할 수 없는 데이터 클리닝 작업은 수집과 분석, 정제에 이르기까지 데이터 과학의 효율을 높이는 일반적인 절차다. 기존 책들이 주로 첫 장에서만 다루던 데이터 준비 과정에 대한 필수 내용을 구체화했고, 실제 데이터 과학에서 응용할 수 있는 기술을 전달한다.</description>\n",
       "<creator>aladin</creator>\n",
       "<isbn>K282831577</isbn>\n",
       "<isbn13>9791161757094</isbn13>\n",
       "<pricesales>36000</pricesales>\n",
       "<pricestandard>40000</pricestandard>\n",
       "<stockstatus>예약판매</stockstatus>\n",
       "<mileage>2000</mileage>\n",
       "<cover>https://image.aladin.co.kr/product/30866/97/coversum/k282831577_1.jpg</cover>\n",
       "<categoryid>6794</categoryid>\n",
       "<categoryname>국내도서&gt;컴퓨터/모바일&gt;컴퓨터 공학&gt;데이터베이스 개론</categoryname>\n",
       "<publisher>에이콘출판</publisher>\n",
       "<customerreviewrank>0</customerreviewrank>\n",
       "</item>\n",
       "<item itemid=\"308908446\">\n",
       "<title>파이썬 코딩 도장</title>\n",
       "<link/>http://www.aladin.co.kr/shop/wproduct.aspx?ItemId=308908446&amp;copyPaper=1&amp;ttbkey=ttbjs0712751647001&amp;start=api\n",
       "\t\t\t\t<author>남재윤 지음</author>\n",
       "<pubdate>Sun, 29 Jan 2023 15:00:00 GMT</pubdate>\n",
       "<description>&lt;img src='https://image.aladin.co.kr/product/30890/84/coveroff/k212831488_1.jpg'/&gt; 파이썬 코딩 도장 - 남재윤 지음 &lt;br/&gt; 이론 &amp;gt 실습 &amp;gt 퀴즈 &amp;gt 연습문제 &amp;gt 심사문제로 반복해서 학습한다. 핵심정리와 Q&amp;A로 학습한 내용을 정리한다. 혼자 작성한 코드가 올바른지 알 수 없다. 심사를 통과하지 못한다면 코드가 잘못된 것이다. 온라인 심사로 꼼꼼하게 채점해서 실수를 바로 잡을 수 있다.</description>\n",
       "<creator>aladin</creator>\n",
       "<isbn>K212831488</isbn>\n",
       "<isbn13>9791140702428</isbn13>\n",
       "<pricesales>27000</pricesales>\n",
       "<pricestandard>30000</pricestandard>\n",
       "<stockstatus>예약판매</stockstatus>\n",
       "<mileage>1500</mileage>\n",
       "<cover>https://image.aladin.co.kr/product/30890/84/coversum/k212831488_1.jpg</cover>\n",
       "<categoryid>6734</categoryid>\n",
       "<categoryname>국내도서&gt;컴퓨터/모바일&gt;프로그래밍 언어&gt;파이썬</categoryname>\n",
       "<publisher>길벗</publisher>\n",
       "<customerreviewrank>0</customerreviewrank>\n",
       "</item>\n",
       "<item itemid=\"308892633\">\n",
       "<title>거니의 문과 감성 실용 파이썬 - 문과생의, 문과생에 의한, 문과생을 위한 실용 파이썬 클래스 (비전공자를 위한 코딩 입문서)</title>\n",
       "<link/>http://www.aladin.co.kr/shop/wproduct.aspx?ItemId=308892633&amp;copyPaper=1&amp;ttbkey=ttbjs0712751647001&amp;start=api\n",
       "\t\t\t\t<author>이건희 지음</author>\n",
       "<pubdate>Thu, 19 Jan 2023 15:00:00 GMT</pubdate>\n",
       "<description>&lt;img src='https://image.aladin.co.kr/product/30889/26/coveroff/k232831385_1.jpg'/&gt; 거니의 문과 감성 실용 파이썬 - 이건희 지음 &lt;br/&gt; 이 책의 목표는 ‘나에게 딱 필요한, 나만의 프로그램을 만드는 방법’을 배우는 것이다. 이를 위해 일상이나 업무에 도움이 될 만한 자동화 프로그램 만드는 과정을 실제 프로그래머들이 하는 방식 그대로 만들어본다.</description>\n",
       "<creator>aladin</creator>\n",
       "<isbn>K232831385</isbn>\n",
       "<isbn13>9791140703012</isbn13>\n",
       "<pricesales>19800</pricesales>\n",
       "<pricestandard>22000</pricestandard>\n",
       "<stockstatus>예약판매</stockstatus>\n",
       "<mileage>1100</mileage>\n",
       "<cover>https://image.aladin.co.kr/product/30889/26/coversum/k232831385_1.jpg</cover>\n",
       "<categoryid>6734</categoryid>\n",
       "<categoryname>국내도서&gt;컴퓨터/모바일&gt;프로그래밍 언어&gt;파이썬</categoryname>\n",
       "<publisher>길벗</publisher>\n",
       "<customerreviewrank>0</customerreviewrank>\n",
       "</item>\n",
       "<item itemid=\"308621189\">\n",
       "<title>데이터 분석가가 반드시 알아야 할 모든 것 - 파이썬 코드와 캐글 데이터셋으로 실습하는</title>\n",
       "<link/>http://www.aladin.co.kr/shop/wproduct.aspx?ItemId=308621189&amp;copyPaper=1&amp;ttbkey=ttbjs0712751647001&amp;start=api\n",
       "\t\t\t\t<author>황세웅 지음</author>\n",
       "<pubdate>Wed, 18 Jan 2023 15:00:00 GMT</pubdate>\n",
       "<description>&lt;img src='https://image.aladin.co.kr/product/30862/11/coveroff/k962831572_1.jpg'/&gt; 데이터 분석가가 반드시 알아야 할 모든 것 - 황세웅 지음 &lt;br/&gt; 데이터 분석의 기초 체력이라 할 수 있는 통계학부터 필수적인 머신러닝 기법까지를 다룬다. 처음 비즈니스 문제를 정의하는 단계부터 데이터 준비, 모델링 및 평가, 그리고 스토리텔링까지, 데이터 분석가라면 반드시 알아야 하는 모든 내용이 이 책에 있다.</description>\n",
       "<creator>aladin</creator>\n",
       "<isbn>K962831572</isbn>\n",
       "<isbn13>9791158393816</isbn13>\n",
       "<pricesales>34200</pricesales>\n",
       "<pricestandard>38000</pricestandard>\n",
       "<stockstatus>예약판매</stockstatus>\n",
       "<mileage>1900</mileage>\n",
       "<cover>https://image.aladin.co.kr/product/30862/11/coversum/k962831572_1.jpg</cover>\n",
       "<categoryid>2732</categoryid>\n",
       "<categoryname>국내도서&gt;컴퓨터/모바일&gt;컴퓨터 공학&gt;자료구조/알고리즘</categoryname>\n",
       "<publisher>위키북스</publisher>\n",
       "<customerreviewrank>10</customerreviewrank>\n",
       "</item>\n",
       "<item itemid=\"308122150\">\n",
       "<title>프로그래밍 입문을 위한 파이썬의 정석</title>\n",
       "<link/>http://www.aladin.co.kr/shop/wproduct.aspx?ItemId=308122150&amp;copyPaper=1&amp;ttbkey=ttbjs0712751647001&amp;start=api\n",
       "\t\t\t\t<author>조용주.임좌상 지음</author>\n",
       "<pubdate>Mon, 09 Jan 2023 15:00:00 GMT</pubdate>\n",
       "<description>&lt;img src='https://image.aladin.co.kr/product/30812/21/coveroff/k802831563_2.jpg'/&gt; 프로그래밍 입문을 위한 파이썬의 정석 - 조용주.임좌상 지음 &lt;br/&gt; 프로그래밍 입문자를 위한 파이썬의 입문 가이드. 4차 산업혁명의 핵심인 머신러닝, 사물 인터넷(IoT), 데이터 분석 등 다양한 분야에 활용되는 직관적이고 간결한 문법의 파이썬 프로그래밍 언어를 최신 트렌드에 맞게 예제 중심으로 학습할 수 있다.</description>\n",
       "<creator>aladin</creator>\n",
       "<isbn>K802831563</isbn>\n",
       "<isbn13>9791140702671</isbn13>\n",
       "<pricesales>29800</pricesales>\n",
       "<pricestandard>29800</pricestandard>\n",
       "<stockstatus></stockstatus>\n",
       "<mileage>890</mileage>\n",
       "<cover>https://image.aladin.co.kr/product/30812/21/coversum/k802831563_2.jpg</cover>\n",
       "<categoryid>6734</categoryid>\n",
       "<categoryname>국내도서&gt;컴퓨터/모바일&gt;프로그래밍 언어&gt;파이썬</categoryname>\n",
       "<publisher>길벗캠퍼스</publisher>\n",
       "<customerreviewrank>0</customerreviewrank>\n",
       "</item>\n",
       "<item itemid=\"308121812\">\n",
       "<title>누구나 쉽게 자료구조와 알고리즘 with 파이썬</title>\n",
       "<link/>http://www.aladin.co.kr/shop/wproduct.aspx?ItemId=308121812&amp;copyPaper=1&amp;ttbkey=ttbjs0712751647001&amp;start=api\n",
       "\t\t\t\t<author>김현정.황숙희 지음</author>\n",
       "<pubdate>Mon, 09 Jan 2023 15:00:00 GMT</pubdate>\n",
       "<description>&lt;img src='https://image.aladin.co.kr/product/30812/18/coveroff/k642831563_2.jpg'/&gt; 누구나 쉽게 자료구조와 알고리즘 with 파이썬 - 김현정.황숙희 지음 &lt;br/&gt; 컴퓨터가 데이터를 저장하고 문제를 해결하는 기초인 자료구조를 쉽게 이해할 수 있도록 자료형, 자료구조, 알고리즘에 대한 기본 정의와 비교에 대한 설명을 포함하고 있다. 이해를 돕는 다양한 그림과 도해와 함께 폭넓은 실습 예제를 제공한다.</description>\n",
       "<creator>aladin</creator>\n",
       "<isbn>K642831563</isbn>\n",
       "<isbn13>9791140702688</isbn13>\n",
       "<pricesales>28000</pricesales>\n",
       "<pricestandard>28000</pricestandard>\n",
       "<stockstatus></stockstatus>\n",
       "<mileage>840</mileage>\n",
       "<cover>https://image.aladin.co.kr/product/30812/18/coversum/k642831563_2.jpg</cover>\n",
       "<categoryid>2724</categoryid>\n",
       "<categoryname>국내도서&gt;컴퓨터/모바일&gt;컴퓨터 공학&gt;소프트웨어 공학</categoryname>\n",
       "<publisher>길벗캠퍼스</publisher>\n",
       "<customerreviewrank>0</customerreviewrank>\n",
       "</item>\n",
       "<item itemid=\"298222240\">\n",
       "<title>알기 쉬운 파이썬 SQL 코딩하기</title>\n",
       "<link/>http://www.aladin.co.kr/shop/wproduct.aspx?ItemId=298222240&amp;copyPaper=1&amp;ttbkey=ttbjs0712751647001&amp;start=api\n",
       "\t\t\t\t<author>정현희 지음</author>\n",
       "<pubdate>Mon, 09 Jan 2023 15:00:00 GMT</pubdate>\n",
       "<description>&lt;img src='https://image.aladin.co.kr/product/29822/22/coveroff/8940646053_1.jpg'/&gt; 알기 쉬운 파이썬 SQL 코딩하기 - 정현희 지음 &lt;br/&gt; 파이썬 프로그램을 통해 단계적으로 코딩을 습득해 볼 수 있도록 구성되었다. 특히 파이썬을 데이터베이스 관리 프로그램언어인 SQL과 연동해 활용할 수 있는 기초 지식을 습득할 수 있는 데에 주안점을 맞추고 있다.</description>\n",
       "<creator>aladin</creator>\n",
       "<isbn>8940646053</isbn>\n",
       "<isbn13>9788940646052</isbn13>\n",
       "<pricesales>13500</pricesales>\n",
       "<pricestandard>15000</pricestandard>\n",
       "<stockstatus></stockstatus>\n",
       "<mileage>750</mileage>\n",
       "<cover>https://image.aladin.co.kr/product/29822/22/coversum/8940646053_1.jpg</cover>\n",
       "<categoryid>2836</categoryid>\n",
       "<categoryname>국내도서&gt;컴퓨터/모바일&gt;활용능력&gt;신규 자격증/자격증 기타</categoryname>\n",
       "<publisher>크라운출판사</publisher>\n",
       "<customerreviewrank>0</customerreviewrank>\n",
       "</item>\n",
       "<item itemid=\"308631289\">\n",
       "<title>Python으로 시작하는 빅데이터분석 및 인공지능 - 개정2판</title>\n",
       "<link/>http://www.aladin.co.kr/shop/wproduct.aspx?ItemId=308631289&amp;copyPaper=1&amp;ttbkey=ttbjs0712751647001&amp;start=api\n",
       "\t\t\t\t<author>조준모 지음</author>\n",
       "<pubdate>Sun, 08 Jan 2023 15:00:00 GMT</pubdate>\n",
       "<description>&lt;img src='https://image.aladin.co.kr/product/30863/12/coveroff/k622831573_1.jpg'/&gt; Python으로 시작하는 빅데이터분석 및 인공지능 - 조준모 지음 &lt;br/&gt; 파이썬의 기초를 익히고 빅데이터 분석과 인공지능의 기초지식을 확립하기 위해 기본이론과 다양한 실습예제들로 공부하는 개론서이다. 현재 각광을 받고 있는 구글의 주피터 노트북환경에서 넘파이와 판다스를 사용할 수 있는 파이썬을 실습을 통해 익힌다.</description>\n",
       "<creator>aladin</creator>\n",
       "<isbn>K622831573</isbn>\n",
       "<isbn13>9791192373126</isbn13>\n",
       "<pricesales>28000</pricesales>\n",
       "<pricestandard>28000</pricestandard>\n",
       "<stockstatus></stockstatus>\n",
       "<mileage>1400</mileage>\n",
       "<cover>https://image.aladin.co.kr/product/30863/12/coversum/k622831573_1.jpg</cover>\n",
       "<categoryid>6734</categoryid>\n",
       "<categoryname>국내도서&gt;컴퓨터/모바일&gt;프로그래밍 언어&gt;파이썬</categoryname>\n",
       "<publisher>인피니티북스</publisher>\n",
       "<customerreviewrank>0</customerreviewrank>\n",
       "</item>\n",
       "<item itemid=\"308199571\">\n",
       "<title>파이썬으로 배우는 음성인식 - 음성인식의 기술 발전 동향부터 파이토치를 활용한 딥러닝 실습까지</title>\n",
       "<link/>http://www.aladin.co.kr/shop/wproduct.aspx?ItemId=308199571&amp;copyPaper=1&amp;ttbkey=ttbjs0712751647001&amp;start=api\n",
       "\t\t\t\t<author>다카시마 료이치 지음, 정권우 옮김</author>\n",
       "<pubdate>Sun, 08 Jan 2023 15:00:00 GMT</pubdate>\n",
       "<description>&lt;img src='https://image.aladin.co.kr/product/30819/95/coveroff/k482831666_1.jpg'/&gt; 파이썬으로 배우는 음성인식 - 다카시마 료이치 지음, 정권우 옮김 &lt;br/&gt; 지금까지의 음성인식 기술의 역사와 기술 발전 동향을 이해하고, 파이썬과 파이토치를 통해 최신 음성인식 시스템을 실습한다. 음성인식의 목적이나 알고리즘의 개요를 설명하고, 소스 코드를 상세하게 분석하고, 마지막으로 소스 코드를 첨부하여 독자들이 직접 구현할 수 있도록 한다.</description>\n",
       "<creator>aladin</creator>\n",
       "<isbn>K482831666</isbn>\n",
       "<isbn13>9791165921828</isbn13>\n",
       "<pricesales>24300</pricesales>\n",
       "<pricestandard>27000</pricestandard>\n",
       "<stockstatus></stockstatus>\n",
       "<mileage>1350</mileage>\n",
       "<cover>https://image.aladin.co.kr/product/30819/95/coversum/k482831666_1.jpg</cover>\n",
       "<categoryid>6734</categoryid>\n",
       "<categoryname>국내도서&gt;컴퓨터/모바일&gt;프로그래밍 언어&gt;파이썬</categoryname>\n",
       "<publisher>비제이퍼블릭</publisher>\n",
       "<customerreviewrank>0</customerreviewrank>\n",
       "</item>\n",
       "</object></body></html>"
      ]
     },
     "execution_count": 61,
     "metadata": {},
     "output_type": "execute_result"
    }
   ],
   "source": [
    "bs_obj"
   ]
  },
  {
   "cell_type": "code",
   "execution_count": 63,
   "id": "c86f832d",
   "metadata": {},
   "outputs": [
    {
     "data": {
      "text/plain": [
       "[<description>&lt;img src='https://image.aladin.co.kr/product/30866/61/coveroff/k662831576_1.jpg'/&gt; 알고리듬 세계에 뛰어들기 - 브래드포드 턱필드 지음, 이재익 옮김 &lt;br/&gt; 알고리듬에 관한 파이썬 기반의 광범위한 입문서다. 야구공을 잡는 방법을 결정하는 데 도움이 되는 인간의 알고리듬, 머신 러닝과 인공 지능에 사용되는 것과 같은 고급 알고리듬 등 검색, 정렬 및 최적화를 위한 세상에서 가장 흥미로운 많은 알고리듬을 탐색하게 될 것이다.</description>,\n",
       " <description>&lt;img src='https://image.aladin.co.kr/product/30866/97/coveroff/k282831577_1.jpg'/&gt; 데이터 과학 효율을 높이는 데이터 클리닝 - 데이비드 메르츠 지음, 유동하 옮김 &lt;br/&gt; 데이터 과학자라면 피할 수 없는 데이터 클리닝 작업은 수집과 분석, 정제에 이르기까지 데이터 과학의 효율을 높이는 일반적인 절차다. 기존 책들이 주로 첫 장에서만 다루던 데이터 준비 과정에 대한 필수 내용을 구체화했고, 실제 데이터 과학에서 응용할 수 있는 기술을 전달한다.</description>,\n",
       " <description>&lt;img src='https://image.aladin.co.kr/product/30890/84/coveroff/k212831488_1.jpg'/&gt; 파이썬 코딩 도장 - 남재윤 지음 &lt;br/&gt; 이론 &amp;gt 실습 &amp;gt 퀴즈 &amp;gt 연습문제 &amp;gt 심사문제로 반복해서 학습한다. 핵심정리와 Q&amp;A로 학습한 내용을 정리한다. 혼자 작성한 코드가 올바른지 알 수 없다. 심사를 통과하지 못한다면 코드가 잘못된 것이다. 온라인 심사로 꼼꼼하게 채점해서 실수를 바로 잡을 수 있다.</description>,\n",
       " <description>&lt;img src='https://image.aladin.co.kr/product/30889/26/coveroff/k232831385_1.jpg'/&gt; 거니의 문과 감성 실용 파이썬 - 이건희 지음 &lt;br/&gt; 이 책의 목표는 ‘나에게 딱 필요한, 나만의 프로그램을 만드는 방법’을 배우는 것이다. 이를 위해 일상이나 업무에 도움이 될 만한 자동화 프로그램 만드는 과정을 실제 프로그래머들이 하는 방식 그대로 만들어본다.</description>,\n",
       " <description>&lt;img src='https://image.aladin.co.kr/product/30862/11/coveroff/k962831572_1.jpg'/&gt; 데이터 분석가가 반드시 알아야 할 모든 것 - 황세웅 지음 &lt;br/&gt; 데이터 분석의 기초 체력이라 할 수 있는 통계학부터 필수적인 머신러닝 기법까지를 다룬다. 처음 비즈니스 문제를 정의하는 단계부터 데이터 준비, 모델링 및 평가, 그리고 스토리텔링까지, 데이터 분석가라면 반드시 알아야 하는 모든 내용이 이 책에 있다.</description>,\n",
       " <description>&lt;img src='https://image.aladin.co.kr/product/30812/21/coveroff/k802831563_2.jpg'/&gt; 프로그래밍 입문을 위한 파이썬의 정석 - 조용주.임좌상 지음 &lt;br/&gt; 프로그래밍 입문자를 위한 파이썬의 입문 가이드. 4차 산업혁명의 핵심인 머신러닝, 사물 인터넷(IoT), 데이터 분석 등 다양한 분야에 활용되는 직관적이고 간결한 문법의 파이썬 프로그래밍 언어를 최신 트렌드에 맞게 예제 중심으로 학습할 수 있다.</description>,\n",
       " <description>&lt;img src='https://image.aladin.co.kr/product/30812/18/coveroff/k642831563_2.jpg'/&gt; 누구나 쉽게 자료구조와 알고리즘 with 파이썬 - 김현정.황숙희 지음 &lt;br/&gt; 컴퓨터가 데이터를 저장하고 문제를 해결하는 기초인 자료구조를 쉽게 이해할 수 있도록 자료형, 자료구조, 알고리즘에 대한 기본 정의와 비교에 대한 설명을 포함하고 있다. 이해를 돕는 다양한 그림과 도해와 함께 폭넓은 실습 예제를 제공한다.</description>,\n",
       " <description>&lt;img src='https://image.aladin.co.kr/product/29822/22/coveroff/8940646053_1.jpg'/&gt; 알기 쉬운 파이썬 SQL 코딩하기 - 정현희 지음 &lt;br/&gt; 파이썬 프로그램을 통해 단계적으로 코딩을 습득해 볼 수 있도록 구성되었다. 특히 파이썬을 데이터베이스 관리 프로그램언어인 SQL과 연동해 활용할 수 있는 기초 지식을 습득할 수 있는 데에 주안점을 맞추고 있다.</description>,\n",
       " <description>&lt;img src='https://image.aladin.co.kr/product/30863/12/coveroff/k622831573_1.jpg'/&gt; Python으로 시작하는 빅데이터분석 및 인공지능 - 조준모 지음 &lt;br/&gt; 파이썬의 기초를 익히고 빅데이터 분석과 인공지능의 기초지식을 확립하기 위해 기본이론과 다양한 실습예제들로 공부하는 개론서이다. 현재 각광을 받고 있는 구글의 주피터 노트북환경에서 넘파이와 판다스를 사용할 수 있는 파이썬을 실습을 통해 익힌다.</description>,\n",
       " <description>&lt;img src='https://image.aladin.co.kr/product/30819/95/coveroff/k482831666_1.jpg'/&gt; 파이썬으로 배우는 음성인식 - 다카시마 료이치 지음, 정권우 옮김 &lt;br/&gt; 지금까지의 음성인식 기술의 역사와 기술 발전 동향을 이해하고, 파이썬과 파이토치를 통해 최신 음성인식 시스템을 실습한다. 음성인식의 목적이나 알고리즘의 개요를 설명하고, 소스 코드를 상세하게 분석하고, 마지막으로 소스 코드를 첨부하여 독자들이 직접 구현할 수 있도록 한다.</description>]"
      ]
     },
     "execution_count": 63,
     "metadata": {},
     "output_type": "execute_result"
    }
   ],
   "source": [
    "bs_obj.findAll('description')"
   ]
  },
  {
   "cell_type": "code",
   "execution_count": null,
   "id": "c8a278cc",
   "metadata": {},
   "outputs": [],
   "source": []
  }
 ],
 "metadata": {
  "kernelspec": {
   "display_name": "Python 3 (ipykernel)",
   "language": "python",
   "name": "python3"
  },
  "language_info": {
   "codemirror_mode": {
    "name": "ipython",
    "version": 3
   },
   "file_extension": ".py",
   "mimetype": "text/x-python",
   "name": "python",
   "nbconvert_exporter": "python",
   "pygments_lexer": "ipython3",
   "version": "3.9.12"
  }
 },
 "nbformat": 4,
 "nbformat_minor": 5
}
